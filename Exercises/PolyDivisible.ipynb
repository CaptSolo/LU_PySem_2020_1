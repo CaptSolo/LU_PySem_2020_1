{
 "cells": [
  {
   "cell_type": "markdown",
   "metadata": {},
   "source": [
    "## Polydivisible Numbers\n",
    "\n",
    "https://www.codewars.com/kata/5e4217e476126b000170489b\n",
    "\n",
    "I read a book recently, titled \"Things to Make and Do in the Fourth Dimension\" by comedian and mathematician [Matt Parker](https://www.youtube.com/user/standupmaths), and in the first chapter of the book Matt talks about problems he likes to solve in his head to take his mind off the fact that he is in his dentist's chair, we've all been there!\n",
    "\n",
    "The problem he talks about relates to polydivisible numbers, and I thought a kata should be written on the subject as it's quite interesting. (Well it's interesting to me, so there!)\n",
    "\n",
    "Polydivisib... huh what?\n",
    "So what are they?\n",
    "\n",
    "A polydivisible number is divisible in an unusual way. The first digit is cleanly divisible by 1, the first two digits are cleanly divisible by 2, the first three by 3, and so on.\n",
    "\n",
    "Examples\n",
    "Let's take the number 1232 as an example.\n",
    "\n",
    "    1     / 1 = 1     // Works\n",
    "    12    / 2 = 6     // Works\n",
    "    123   / 3 = 41    // Works\n",
    "    1232  / 4 = 308   // Works\n",
    "    1232 is a polydivisible number.\n",
    "\n",
    "However, let's take the number 123220 and see what happens.\n",
    "\n",
    "     1      /1 = 1    // Works\n",
    "     12     /2 = 6    // Works\n",
    "     123    /3 = 41   // Works\n",
    "     1232   /4 = 308  // Works\n",
    "     12322  /5 = 2464.4         // Doesn't work\n",
    "     123220 /6 = 220536.333...  // Doesn't work\n",
    "     123220 is not polydivisible.\n",
    "\n",
    "Your job: check if a number is polydivisible or not.\n",
    "Return true if it is, and false if it isn't.\n",
    "\n",
    "Note: All inputs will be valid numbers between 0 and 2^53-1 (9,007,199,254,740,991) (inclusive).\n",
    "Note: All single digit numbers (including 0) are trivially polydivisible.\n",
    "\n",
    "## Extra credit\n",
    "Harder version of same exercise which covers additional number bases\n",
    "https://www.codewars.com/kata/556206664efbe6376700005c\n"
   ]
  },
  {
   "cell_type": "code",
   "execution_count": 1,
   "metadata": {},
   "outputs": [
    {
     "data": {
      "text/plain": [
       "55535352"
      ]
     },
     "execution_count": 1,
     "metadata": {},
     "output_type": "execute_result"
    }
   ],
   "source": [
    "int(\"55535352\")"
   ]
  },
  {
   "cell_type": "code",
   "execution_count": 2,
   "metadata": {},
   "outputs": [
    {
     "data": {
      "text/plain": [
       "'54352452'"
      ]
     },
     "execution_count": 2,
     "metadata": {},
     "output_type": "execute_result"
    }
   ],
   "source": [
    "str(54352452)"
   ]
  },
  {
   "cell_type": "code",
   "execution_count": 3,
   "metadata": {},
   "outputs": [
    {
     "data": {
      "text/plain": [
       "2"
      ]
     },
     "execution_count": 3,
     "metadata": {},
     "output_type": "execute_result"
    }
   ],
   "source": [
    "15 // 6"
   ]
  },
  {
   "cell_type": "code",
   "execution_count": 4,
   "metadata": {},
   "outputs": [
    {
     "data": {
      "text/plain": [
       "3"
      ]
     },
     "execution_count": 4,
     "metadata": {},
     "output_type": "execute_result"
    }
   ],
   "source": [
    "15 % 6"
   ]
  },
  {
   "cell_type": "code",
   "execution_count": 6,
   "metadata": {},
   "outputs": [
    {
     "data": {
      "text/plain": [
       "8"
      ]
     },
     "execution_count": 6,
     "metadata": {},
     "output_type": "execute_result"
    }
   ],
   "source": [
    "len(str(54543253))"
   ]
  },
  {
   "cell_type": "code",
   "execution_count": null,
   "metadata": {},
   "outputs": [],
   "source": []
  },
  {
   "cell_type": "code",
   "execution_count": 5,
   "metadata": {},
   "outputs": [
    {
     "data": {
      "text/plain": [
       "2.5"
      ]
     },
     "execution_count": 5,
     "metadata": {},
     "output_type": "execute_result"
    }
   ],
   "source": [
    "15 / 6"
   ]
  },
  {
   "cell_type": "code",
   "execution_count": null,
   "metadata": {},
   "outputs": [],
   "source": [
    "def isPolyDivisible(num):\n",
    "    # your code goes here\n",
    "    # 348\n",
    "    # 3\n",
    "    # 34\n",
    "    # 348\n",
    "  string = str(num)\n",
    "  counter = 1\n",
    "  value = \"\"\n",
    "  passed = 0\n",
    "  for number in string:\n",
    "    value = value + number\n",
    "    x = int(value)/counter\n",
    "    if (x % 1 == 0.0):\n",
    "      print(\"number / counter = \", value, \"/\", counter, int(value)/counter, \"// works\")\n",
    "      passed = passed + 1\n",
    "    else:\n",
    "      print(\"number / counter = \", value, \"/\", counter, int(value)/counter, \"// does not work\")      \n",
    "    counter = counter + 1\n",
    "  if (passed == len(string)):\n",
    "    print(string, \"is a divisible number\", passed, len(string))\n",
    "  else:\n",
    "    print(string, \"is not adivisible number\", passed, len(string))\n",
    "    return False"
   ]
  },
  {
   "cell_type": "code",
   "execution_count": 7,
   "metadata": {},
   "outputs": [],
   "source": [
    "def isPolyDivisible(num):\n",
    "    string = str(num)\n",
    "    counter = 1\n",
    "    value = \"\"\n",
    "    passed = 0\n",
    "    for number in string:\n",
    "        value = value + number\n",
    "        x = int(value)/counter\n",
    "        if (x % 1 == 0.0):\n",
    "            print(\"number / counter = \", value, \"/\",\n",
    "                  counter, int(value)/counter, \"// works\")\n",
    "            passed = passed + 1\n",
    "        else:\n",
    "            print(\"number / counter = \", value, \"/\", counter,\n",
    "                  int(value)/counter, \"// does not work\")\n",
    "        counter = counter + 1\n",
    "    if (passed == len(string)):\n",
    "        print(string, \"is a divisible number\", passed, len(string))\n",
    "    else:\n",
    "        print(string, \"is not adivisible number\", passed, len(string))\n"
   ]
  },
  {
   "cell_type": "code",
   "execution_count": 8,
   "metadata": {},
   "outputs": [
    {
     "name": "stdout",
     "output_type": "stream",
     "text": [
      "number / counter =  1 / 1 1.0 // works\n",
      "number / counter =  12 / 2 6.0 // works\n",
      "number / counter =  123 / 3 41.0 // works\n",
      "number / counter =  1232 / 4 308.0 // works\n",
      "1232 is a divisible number 4 4\n"
     ]
    }
   ],
   "source": [
    "isPolyDivisible(1232)"
   ]
  },
  {
   "cell_type": "code",
   "execution_count": 9,
   "metadata": {},
   "outputs": [
    {
     "name": "stdout",
     "output_type": "stream",
     "text": [
      "number / counter =  1 / 1 1.0 // works\n",
      "number / counter =  12 / 2 6.0 // works\n",
      "number / counter =  123 / 3 41.0 // works\n",
      "number / counter =  1232 / 4 308.0 // works\n",
      "number / counter =  12322 / 5 2464.4 // does not work\n",
      "number / counter =  123220 / 6 20536.666666666668 // does not work\n",
      "123220 is not adivisible number 4 6\n"
     ]
    }
   ],
   "source": [
    "isPolyDivisible(123220)"
   ]
  },
  {
   "cell_type": "code",
   "execution_count": null,
   "metadata": {},
   "outputs": [],
   "source": [
    "def isPoly(num):\n",
    "    \n",
    "    for i, n in enumerate(str(num)):"
   ]
  },
  {
   "cell_type": "code",
   "execution_count": 10,
   "metadata": {},
   "outputs": [],
   "source": [
    "def poly(numba):\n",
    "\ti = 1\n",
    "\ttruer = True\n",
    "\twhile i < len(str(numba))+1:\n",
    "\t\tprint(f\"{str(numba)[:i]}/{i}={int(str(numba)[:i])/i}\")\n",
    "\t\tif (int(str(numba)[:i])/i)%1:\n",
    "\t\t\ttruer = False\n",
    "\t\ti+=1\n",
    "\tprint(f\"Number {numba} is actually {truer}\")"
   ]
  },
  {
   "cell_type": "code",
   "execution_count": 11,
   "metadata": {},
   "outputs": [
    {
     "name": "stdout",
     "output_type": "stream",
     "text": [
      "1/1=1.0\n",
      "12/2=6.0\n",
      "123/3=41.0\n",
      "1232/4=308.0\n",
      "12322/5=2464.4\n",
      "123220/6=20536.666666666668\n",
      "Number 123220 is actually False\n"
     ]
    }
   ],
   "source": [
    "poly(123220)"
   ]
  },
  {
   "cell_type": "code",
   "execution_count": 12,
   "metadata": {},
   "outputs": [
    {
     "name": "stdout",
     "output_type": "stream",
     "text": [
      "1/1=1.0\n",
      "12/2=6.0\n",
      "123/3=41.0\n",
      "1232/4=308.0\n",
      "Number 1232 is actually True\n"
     ]
    }
   ],
   "source": [
    "poly(1232)"
   ]
  }
 ],
 "metadata": {
  "kernelspec": {
   "display_name": "Python 3",
   "language": "python",
   "name": "python3"
  },
  "language_info": {
   "codemirror_mode": {
    "name": "ipython",
    "version": 3
   },
   "file_extension": ".py",
   "mimetype": "text/x-python",
   "name": "python",
   "nbconvert_exporter": "python",
   "pygments_lexer": "ipython3",
   "version": "3.7.3"
  }
 },
 "nbformat": 4,
 "nbformat_minor": 2
}
